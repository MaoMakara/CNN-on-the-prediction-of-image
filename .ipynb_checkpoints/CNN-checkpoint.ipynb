{
 "cells": [
  {
   "cell_type": "code",
   "execution_count": 14,
   "id": "70c51fb8",
   "metadata": {},
   "outputs": [],
   "source": [
    "from tensorflow.keras.preprocessing.image import ImageDataGenerator\n",
    "from tensorflow.keras.preprocessing import image\n",
    "from pathlib import Path\n",
    "import matplotlib.pyplot as plt\n",
    "import tensorflow as tf\n",
    "import pandas as pd\n",
    "import numpy as np\n",
    "import cv2\n",
    "import os"
   ]
  },
  {
   "cell_type": "code",
   "execution_count": 15,
   "id": "8c9c040f",
   "metadata": {},
   "outputs": [
    {
     "name": "stdout",
     "output_type": "stream",
     "text": [
      "No GPU device found\n"
     ]
    }
   ],
   "source": [
    "import tensorflow as tf\n",
    "gpus = tf.config.experimental.list_physical_devices('GPU')\n",
    "if gpus:\n",
    "  for gpu in gpus:\n",
    "    tf.config.experimental.set_memory_growth(gpu, True)\n",
    "else:\n",
    "  print(\"No GPU device found\")"
   ]
  },
  {
   "cell_type": "code",
   "execution_count": null,
   "id": "a0efb863",
   "metadata": {
    "scrolled": false
   },
   "outputs": [],
   "source": [
    "img = image.load_img('Dataset/train/Cat/1.JPG')\n",
    "plt.imshow(img)"
   ]
  },
  {
   "cell_type": "code",
   "execution_count": null,
   "id": "35922a2e",
   "metadata": {},
   "outputs": [],
   "source": [
    "cv2.imread('Dataset/train/Cat/1.JPG').shape  #height, width, and channels of image"
   ]
  },
  {
   "cell_type": "code",
   "execution_count": null,
   "id": "8069ace1",
   "metadata": {},
   "outputs": [],
   "source": [
    "train = ImageDataGenerator(rescale=1/255)\n",
    "validation = ImageDataGenerator(rescale=1/255)"
   ]
  },
  {
   "cell_type": "code",
   "execution_count": null,
   "id": "911f647f",
   "metadata": {},
   "outputs": [],
   "source": [
    "train_dataset = train.flow_from_directory('Dataset/train/',\n",
    "                                           target_size= (200,200),\n",
    "                                           classes=['cat', 'dog'],\n",
    "                                           batch_size= 10,\n",
    "                                           class_mode='binary')\n",
    "\n",
    "validation_dataset = validation.flow_from_directory('Dataset/validation/',\n",
    "                                           target_size= (200,200),\n",
    "                                           classes=['cat', 'dog'],\n",
    "                                           batch_size= 10,\n",
    "                                           class_mode='binary') # use binary because have only two class : Cat and Dog\n",
    "\n"
   ]
  },
  {
   "cell_type": "code",
   "execution_count": null,
   "id": "2afa04a1",
   "metadata": {},
   "outputs": [],
   "source": [
    "model = tf.keras.models.Sequential([tf.keras.layers.Conv2D(16,(3,3),activation = 'relu', input_shape = (200,200,3)),\n",
    "                                    tf.keras.layers.MaxPooling2D(2,2),\n",
    "                                    \n",
    "                                    tf.keras.layers.Conv2D(32,(3,3),activation = 'relu'),\n",
    "                                    tf.keras.layers.MaxPooling2D(2,2),\n",
    "                                    \n",
    "                                    tf.keras.layers.Conv2D(64,(3,3),activation = 'relu'),\n",
    "                                    tf.keras.layers.MaxPooling2D(2,2),\n",
    "                                    \n",
    "                                    tf.keras.layers.Flatten(),\n",
    "                                    tf.keras.layers.Dense(512, activation='relu'),\n",
    "                                    tf.keras.layers.Dense(1, activation='sigmoid')\n",
    "                                    \n",
    "                                   ])"
   ]
  },
  {
   "cell_type": "code",
   "execution_count": null,
   "id": "0807a7ea",
   "metadata": {},
   "outputs": [],
   "source": [
    "model.compile(loss='binary_crossentropy',\n",
    "              optimizer= 'adam',\n",
    "              metrics=['accuracy'])\n"
   ]
  },
  {
   "cell_type": "code",
   "execution_count": null,
   "id": "092cd7a6",
   "metadata": {},
   "outputs": [],
   "source": [
    "model_fit = model.fit(train_dataset,\n",
    "                      validation_data = validation_dataset,\n",
    "                      epochs = 10,\n",
    "                      batch_size= 100,\n",
    "                      callbacks=[tf.keras.callbacks.CSVLogger('history.csv')],\n",
    "                      shuffle = True)\n",
    "_, accuracy = model.evaluate(train_dataset, steps=len(train_dataset), batch_size= 10)\n",
    "print(f\"Test accuracy: {round(accuracy * 100, 2)}%\")"
   ]
  },
  {
   "cell_type": "code",
   "execution_count": null,
   "id": "0cdfd5ef",
   "metadata": {},
   "outputs": [],
   "source": [
    "his = pd.read_csv('history.csv') \n",
    "his.head(10)"
   ]
  },
  {
   "cell_type": "code",
   "execution_count": null,
   "id": "e82086ba",
   "metadata": {},
   "outputs": [],
   "source": [
    "plt.plot(model_fit.history['accuracy'])\n",
    "plt.plot(model_fit.history['val_accuracy'])\n",
    "plt.title('model accuracy')\n",
    "plt.ylabel('accuracy')\n",
    "plt.xlabel('epoch')\n",
    "plt.legend(['train', 'val'], loc='upper left')\n",
    "plt.show()"
   ]
  },
  {
   "cell_type": "code",
   "execution_count": null,
   "id": "bef67418",
   "metadata": {},
   "outputs": [],
   "source": [
    "plt.plot(model_fit.history['loss'])\n",
    "plt.plot(model_fit.history['val_loss'])\n",
    "plt.title('model loss')\n",
    "plt.ylabel('loss')\n",
    "plt.xlabel('epoch')\n",
    "plt.legend(['train', 'val'], loc='upper left')\n",
    "plt.show()"
   ]
  },
  {
   "cell_type": "code",
   "execution_count": null,
   "id": "a21ca0b1",
   "metadata": {},
   "outputs": [],
   "source": [
    "pd.DataFrame(model_fit.history).plot(figsize=(8,5))\n",
    "plt.show()"
   ]
  },
  {
   "cell_type": "code",
   "execution_count": null,
   "id": "b9b47b2f",
   "metadata": {},
   "outputs": [],
   "source": [
    "model.summary() #Detail of model"
   ]
  },
  {
   "cell_type": "code",
   "execution_count": null,
   "id": "79d4da67",
   "metadata": {},
   "outputs": [],
   "source": [
    "# Check models first to see if file exists already.\n",
    "# If not, the model is saved to disk.\n",
    "if os.path.isfile('models/CNN_predict_model.h5') is False:\n",
    "    model.save('models/CNN_predict_model.h5')"
   ]
  },
  {
   "cell_type": "code",
   "execution_count": null,
   "id": "4d656bf9",
   "metadata": {},
   "outputs": [],
   "source": [
    "validation_dataset.class_indices"
   ]
  },
  {
   "cell_type": "code",
   "execution_count": null,
   "id": "83ae3b86",
   "metadata": {},
   "outputs": [],
   "source": [
    "dir_path = 'Dataset/test' #parht of images that you want to test\n",
    "\n",
    "for i in os.listdir(dir_path):\n",
    "    img = image.load_img(dir_path +'/'+i, target_size= (200,200, 3))\n",
    "    plt.imshow(img)\n",
    "    plt.show()\n",
    "    \n",
    "    X = image.img_to_array(img)\n",
    "    X = np.expand_dims(X, axis=0)\n",
    "    images = np.vstack([X])\n",
    "    val = model.predict(images)\n",
    "    \n",
    "    if val == 0:\n",
    "        picture = \"Cat 🐈🐈🐈🐈🐈🐈🐈🐈\"\n",
    "    else:\n",
    "        picture = \"Dog 🐶🐶🐶🐶🐶🐶🐶🐶\"\n",
    "        \n",
    "    print(\"This is \" , picture)"
   ]
  },
  {
   "cell_type": "code",
   "execution_count": null,
   "id": "ed90a839",
   "metadata": {},
   "outputs": [],
   "source": [
    "from tensorflow.keras.models import load_model\n",
    "new_model = load_model('models/CNN_predict_model.h5')"
   ]
  },
  {
   "cell_type": "code",
   "execution_count": null,
   "id": "188a697b",
   "metadata": {},
   "outputs": [],
   "source": [
    "new_model.summary()"
   ]
  },
  {
   "cell_type": "code",
   "execution_count": null,
   "id": "39c935fc",
   "metadata": {},
   "outputs": [],
   "source": []
  },
  {
   "cell_type": "code",
   "execution_count": null,
   "id": "cea3c063",
   "metadata": {},
   "outputs": [],
   "source": []
  }
 ],
 "metadata": {
  "kernelspec": {
   "display_name": "Python 3 (ipykernel)",
   "language": "python",
   "name": "python3"
  },
  "language_info": {
   "codemirror_mode": {
    "name": "ipython",
    "version": 3
   },
   "file_extension": ".py",
   "mimetype": "text/x-python",
   "name": "python",
   "nbconvert_exporter": "python",
   "pygments_lexer": "ipython3",
   "version": "3.9.7"
  }
 },
 "nbformat": 4,
 "nbformat_minor": 5
}
